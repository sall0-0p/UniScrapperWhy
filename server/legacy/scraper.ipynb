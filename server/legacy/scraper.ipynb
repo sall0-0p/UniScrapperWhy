{
 "cells": [
  {
   "cell_type": "markdown",
   "metadata": {},
   "source": [
    "# Ceneo Scraper\n",
    "\n",
    "| Component | Selector | Variable | \n",
    "| --------- | -------- | -------- | \n",
    "| opinion ID | | \n",
    "| opinion’s author | | \n",
    "| author’s recommendation | | \n",
    "| score expressed in number of stars | | \n",
    "| opinion’s content | | \n",
    "| list of product advantages | | \n",
    "| list of product disadvantages | | \n",
    "| how many users think that opinion was helpful | | \n",
    "| how many users think that opinion was unhelpful | | \n",
    "| publishing date | | \n",
    "| purchase date | | "
   ]
  },
  {
   "cell_type": "code",
   "execution_count": 2,
   "metadata": {},
   "outputs": [],
   "source": [
    "import requests\n",
    "import os\n",
    "import json\n",
    "from bs4 import BeautifulSoup\n",
    "from deep_translator import GoogleTranslator\n",
    "\n",
    "import subprocess"
   ]
  },
  {
   "cell_type": "code",
   "execution_count": 3,
   "metadata": {},
   "outputs": [],
   "source": [
    "# Mac notifications\n",
    "\n",
    "CMD = '''\n",
    "on run argv\n",
    "  display notification (item 2 of argv) with title (item 1 of argv)\n",
    "end run\n",
    "'''\n",
    "\n",
    "def notify(title, text):\n",
    "  subprocess.call(['osascript', '-e', CMD, title, text])"
   ]
  },
  {
   "cell_type": "code",
   "execution_count": 4,
   "metadata": {},
   "outputs": [],
   "source": [
    "product_id = input(\"Product ID: \")"
   ]
  },
  {
   "cell_type": "code",
   "execution_count": 5,
   "metadata": {},
   "outputs": [],
   "source": [
    "selectors = {\n",
    "    \"opinion_id\": [None,\"data-entry-id\"],\n",
    "    \"author\": [\"span.user-post__author-name\"],\n",
    "    \"recommendation\": [\"span.user-post__author-recomendation > em\"],\n",
    "    \"score\": [\"span.user-post__score-count\"],\n",
    "    \"content\": [\"div.user-post__text\"],\n",
    "    \"pros\": [\"div.review-feature__title--positives ~ div.review-feature__item\", None, True],\n",
    "    \"cons\": [\"div.review-feature__title--negatives ~ div.review-feature__item\", None, True],\n",
    "    \"helpful\": [\"button.vote-yes > span\"],\n",
    "    \"unhelpful\": [\"button.vote-no > span\"],\n",
    "    \"publish_date\": [\"span.user-post__published > time:nth-child(1)\",\"datetime\"],\n",
    "    \"purchase_date\": [\"span.user-post__published > time:nth-child(2)\",\"datetime\"],\n",
    "}"
   ]
  },
  {
   "cell_type": "code",
   "execution_count": 6,
   "metadata": {},
   "outputs": [],
   "source": [
    "def translate(text, from_lang=\"auto\", to_lang=\"en\"):\n",
    "    if text:\n",
    "        if isinstance(text, list):\n",
    "            return {\n",
    "                from_lang: text,\n",
    "                to_lang: [GoogleTranslator(source = from_lang, target = to_lang).translate(t) for t in text]\n",
    "            }\n",
    "        else:\n",
    "            return {\n",
    "                from_lang: text,\n",
    "                to_lang: GoogleTranslator(source = from_lang, target = to_lang).translate(text)\n",
    "            }\n",
    "    else:\n",
    "        return None"
   ]
  },
  {
   "cell_type": "code",
   "execution_count": 7,
   "metadata": {},
   "outputs": [],
   "source": [
    "# mapping functions\n",
    "\n",
    "def mapRecommendation(value):\n",
    "    if value == \"Polecam\":\n",
    "        return True\n",
    "    elif value == \"Nie polecam\":\n",
    "        return False\n",
    "    else:\n",
    "        return None\n",
    "\n",
    "def mapScore(value):\n",
    "    value = value.replace(\",\", \".\")\n",
    "    splitValue = value.split(\"/\")\n",
    "    points = float(splitValue[0])\n",
    "    maxPoints = float(splitValue[1])\n",
    "\n",
    "    return points / maxPoints\n",
    "\n",
    "mappingFunctions = {\n",
    "    \"recommendation\": [mapRecommendation, False],\n",
    "    \"score\": [mapScore, False],\n",
    "    \"helpful\": [int, False],\n",
    "    \"unhelpful\": [int, False],\n",
    "    # \"content\": [translate, False],\n",
    "    # \"pros\": [translate, True],\n",
    "    # \"cons\": [translate, True],\n",
    "}"
   ]
  },
  {
   "cell_type": "code",
   "execution_count": 8,
   "metadata": {},
   "outputs": [],
   "source": [
    "def extract(ancestor, selector=None, attribute=None, return_list=False):\n",
    "    if return_list:\n",
    "        if attribute:\n",
    "            result = [tag[attribute] for tag in ancestor.select(selector)]\n",
    "        else:\n",
    "            result = [tag.get_text().strip() for tag in ancestor.select(selector)]\n",
    "        \n",
    "        if len(result) > 0:\n",
    "            return result\n",
    "        else:\n",
    "            return None\n",
    "    if selector:\n",
    "        if attribute:\n",
    "            try:\n",
    "                return ancestor.select_one(selector)[attribute]\n",
    "            except TypeError:\n",
    "                return None\n",
    "        try:   \n",
    "            return ancestor.select_one(selector).get_text().strip()\n",
    "        except AttributeError:\n",
    "            return None\n",
    "    if attribute:\n",
    "        return ancestor[attribute]\n",
    "    return ancestor.get_text().strip()"
   ]
  },
  {
   "cell_type": "code",
   "execution_count": 9,
   "metadata": {},
   "outputs": [],
   "source": [
    "all_opinions = []\n",
    "processed_opinions = 0\n",
    "url = \"https://www.ceneo.pl/\" + product_id + \"#tab-reviews\"\n",
    "\n",
    "while(url):\n",
    "    responce = requests.get(url)\n",
    "\n",
    "    page_dom = BeautifulSoup(responce.text, \"html.parser\")\n",
    "    opinions = page_dom.select(\"div.js_product-review\")\n",
    "\n",
    "    for opinion in opinions:\n",
    "        single_opinion = {\n",
    "            key: extract(opinion, *value)\n",
    "                for key, value in selectors.items()\n",
    "        }\n",
    "\n",
    "        for key, value in mappingFunctions.items():\n",
    "            if single_opinion.get(key) != None:\n",
    "                if value[1] == True:\n",
    "                    single_opinion[key] = list(map(value[0], single_opinion[key]))\n",
    "                else:\n",
    "                    single_opinion[key] = value[0](single_opinion[key])\n",
    "\n",
    "        all_opinions.append(single_opinion)\n",
    "        processed_opinions += 1\n",
    "    try:\n",
    "        url = \"https://www.ceneo.pl/\" + extract(page_dom, \"a.pagination__next\", \"href\")\n",
    "    except TypeError:\n",
    "        url = None\n"
   ]
  },
  {
   "cell_type": "markdown",
   "metadata": {},
   "source": [
    "# Saving to file"
   ]
  },
  {
   "cell_type": "code",
   "execution_count": 10,
   "metadata": {},
   "outputs": [],
   "source": [
    "if not os.path.exists(\"opinions\"):\n",
    "    os.mkdir(\"opinions\")\n",
    "\n",
    "jf = open(f\"opinions/{product_id}.json\", \"w\", encoding=\"utf-8\")\n",
    "\n",
    "json.dump({\n",
    "    \"meta\": {\n",
    "        \"name\": extract(page_dom, \".product-top__product-info__name\"),\n",
    "        \"product_id\": product_id,\n",
    "        \"opinion_count\": processed_opinions,\n",
    "        \"image\": \"https:\" + extract(page_dom, \".js_gallery-media\", \"src\"),\n",
    "    },\n",
    "    \"content\": all_opinions,\n",
    "}, jf, indent=4, ensure_ascii=False)\n",
    "\n",
    "jf.close()\n",
    "\n",
    "notify(\"Finished Scraping\", f\"Finished scraping product with ID {product_id}!\\nProducts processed: {processed_opinions}\")"
   ]
  }
 ],
 "metadata": {
  "kernelspec": {
   "display_name": ".venv",
   "language": "python",
   "name": "python3"
  },
  "language_info": {
   "codemirror_mode": {
    "name": "ipython",
    "version": 3
   },
   "file_extension": ".py",
   "mimetype": "text/x-python",
   "name": "python",
   "nbconvert_exporter": "python",
   "pygments_lexer": "ipython3",
   "version": "3.12.2"
  }
 },
 "nbformat": 4,
 "nbformat_minor": 2
}
